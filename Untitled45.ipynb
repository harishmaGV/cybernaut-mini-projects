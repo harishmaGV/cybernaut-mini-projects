{
 "cells": [
  {
   "cell_type": "code",
   "execution_count": 34,
   "id": "c74ace45-6733-495b-946e-e387c55030e4",
   "metadata": {},
   "outputs": [
    {
     "name": "stdout",
     "output_type": "stream",
     "text": [
      "Defaulting to user installation because normal site-packages is not writeable\n",
      "Requirement already satisfied: requests in c:\\users\\haris\\appdata\\roaming\\python\\python312\\site-packages (2.32.3)\n",
      "Requirement already satisfied: beautifulsoup4 in c:\\users\\haris\\appdata\\roaming\\python\\python312\\site-packages (4.12.3)\n",
      "Requirement already satisfied: pandas in c:\\users\\haris\\appdata\\roaming\\python\\python312\\site-packages (2.2.3)\n",
      "Requirement already satisfied: plotly in c:\\users\\haris\\appdata\\roaming\\python\\python312\\site-packages (5.24.1)\n",
      "Requirement already satisfied: ipywidgets in c:\\users\\haris\\appdata\\roaming\\python\\python312\\site-packages (8.1.5)\n",
      "Requirement already satisfied: charset-normalizer<4,>=2 in c:\\users\\haris\\appdata\\roaming\\python\\python312\\site-packages (from requests) (3.3.2)\n",
      "Requirement already satisfied: idna<4,>=2.5 in c:\\users\\haris\\appdata\\roaming\\python\\python312\\site-packages (from requests) (3.10)\n",
      "Requirement already satisfied: urllib3<3,>=1.21.1 in c:\\users\\haris\\appdata\\roaming\\python\\python312\\site-packages (from requests) (2.2.3)\n",
      "Requirement already satisfied: certifi>=2017.4.17 in c:\\users\\haris\\appdata\\roaming\\python\\python312\\site-packages (from requests) (2024.8.30)\n",
      "Requirement already satisfied: soupsieve>1.2 in c:\\users\\haris\\appdata\\roaming\\python\\python312\\site-packages (from beautifulsoup4) (2.6)\n",
      "Requirement already satisfied: numpy>=1.26.0 in c:\\users\\haris\\appdata\\roaming\\python\\python312\\site-packages (from pandas) (1.26.3)\n",
      "Requirement already satisfied: python-dateutil>=2.8.2 in c:\\users\\haris\\appdata\\roaming\\python\\python312\\site-packages (from pandas) (2.9.0.post0)\n",
      "Requirement already satisfied: pytz>=2020.1 in c:\\users\\haris\\appdata\\roaming\\python\\python312\\site-packages (from pandas) (2024.2)\n",
      "Requirement already satisfied: tzdata>=2022.7 in c:\\users\\haris\\appdata\\roaming\\python\\python312\\site-packages (from pandas) (2024.2)\n",
      "Requirement already satisfied: tenacity>=6.2.0 in c:\\users\\haris\\appdata\\roaming\\python\\python312\\site-packages (from plotly) (9.0.0)\n",
      "Requirement already satisfied: packaging in c:\\users\\haris\\appdata\\roaming\\python\\python312\\site-packages (from plotly) (24.1)\n",
      "Requirement already satisfied: comm>=0.1.3 in c:\\users\\haris\\appdata\\roaming\\python\\python312\\site-packages (from ipywidgets) (0.2.2)\n",
      "Requirement already satisfied: ipython>=6.1.0 in c:\\users\\haris\\appdata\\roaming\\python\\python312\\site-packages (from ipywidgets) (8.28.0)\n",
      "Requirement already satisfied: traitlets>=4.3.1 in c:\\users\\haris\\appdata\\roaming\\python\\python312\\site-packages (from ipywidgets) (5.14.3)\n",
      "Requirement already satisfied: widgetsnbextension~=4.0.12 in c:\\users\\haris\\appdata\\roaming\\python\\python312\\site-packages (from ipywidgets) (4.0.13)\n",
      "Requirement already satisfied: jupyterlab-widgets~=3.0.12 in c:\\users\\haris\\appdata\\roaming\\python\\python312\\site-packages (from ipywidgets) (3.0.13)\n",
      "Requirement already satisfied: decorator in c:\\users\\haris\\appdata\\roaming\\python\\python312\\site-packages (from ipython>=6.1.0->ipywidgets) (5.1.1)\n",
      "Requirement already satisfied: jedi>=0.16 in c:\\users\\haris\\appdata\\roaming\\python\\python312\\site-packages (from ipython>=6.1.0->ipywidgets) (0.19.1)\n",
      "Requirement already satisfied: matplotlib-inline in c:\\users\\haris\\appdata\\roaming\\python\\python312\\site-packages (from ipython>=6.1.0->ipywidgets) (0.1.7)\n",
      "Requirement already satisfied: prompt-toolkit<3.1.0,>=3.0.41 in c:\\users\\haris\\appdata\\roaming\\python\\python312\\site-packages (from ipython>=6.1.0->ipywidgets) (3.0.48)\n",
      "Requirement already satisfied: pygments>=2.4.0 in c:\\users\\haris\\appdata\\roaming\\python\\python312\\site-packages (from ipython>=6.1.0->ipywidgets) (2.18.0)\n",
      "Requirement already satisfied: stack-data in c:\\users\\haris\\appdata\\roaming\\python\\python312\\site-packages (from ipython>=6.1.0->ipywidgets) (0.6.3)\n",
      "Requirement already satisfied: colorama in c:\\users\\haris\\appdata\\roaming\\python\\python312\\site-packages (from ipython>=6.1.0->ipywidgets) (0.4.6)\n",
      "Requirement already satisfied: six>=1.5 in c:\\users\\haris\\appdata\\roaming\\python\\python312\\site-packages (from python-dateutil>=2.8.2->pandas) (1.16.0)\n",
      "Requirement already satisfied: parso<0.9.0,>=0.8.3 in c:\\users\\haris\\appdata\\roaming\\python\\python312\\site-packages (from jedi>=0.16->ipython>=6.1.0->ipywidgets) (0.8.4)\n",
      "Requirement already satisfied: wcwidth in c:\\users\\haris\\appdata\\roaming\\python\\python312\\site-packages (from prompt-toolkit<3.1.0,>=3.0.41->ipython>=6.1.0->ipywidgets) (0.2.13)\n",
      "Requirement already satisfied: executing>=1.2.0 in c:\\users\\haris\\appdata\\roaming\\python\\python312\\site-packages (from stack-data->ipython>=6.1.0->ipywidgets) (2.1.0)\n",
      "Requirement already satisfied: asttokens>=2.1.0 in c:\\users\\haris\\appdata\\roaming\\python\\python312\\site-packages (from stack-data->ipython>=6.1.0->ipywidgets) (2.4.1)\n",
      "Requirement already satisfied: pure-eval in c:\\users\\haris\\appdata\\roaming\\python\\python312\\site-packages (from stack-data->ipython>=6.1.0->ipywidgets) (0.2.3)\n",
      "Note: you may need to restart the kernel to use updated packages.\n"
     ]
    },
    {
     "name": "stderr",
     "output_type": "stream",
     "text": [
      "\n",
      "[notice] A new release of pip is available: 24.2 -> 24.3.1\n",
      "[notice] To update, run: python.exe -m pip install --upgrade pip\n"
     ]
    }
   ],
   "source": [
    "pip install requests beautifulsoup4 pandas plotly ipywidgets"
   ]
  },
  {
   "cell_type": "code",
   "execution_count": 35,
   "id": "7e9b228e-d7cd-4ae7-82f4-9288bab2385c",
   "metadata": {},
   "outputs": [],
   "source": [
    "import requests\n",
    "from bs4 import BeautifulSoup\n",
    "import pandas as pd\n",
    "from datetime import datetime\n",
    "import time\n",
    "import random\n",
    "from urllib.parse import quote\n",
    "import plotly.express as px\n",
    "import plotly.graph_objects as go\n",
    "from IPython.display import display, HTML\n",
    "import warnings\n",
    "warnings.filterwarnings('ignore')"
   ]
  },
  {
   "cell_type": "code",
   "execution_count": 37,
   "id": "9728d802-b90a-4311-a2c8-7939a5e0c772",
   "metadata": {},
   "outputs": [],
   "source": [
    "class PriceComparisonScraper:\n",
    "    def __init__(self):\n",
    "        self.headers = {\n",
    "            'User-Agent': 'Mozilla/5.0 (Windows NT 10.0; Win64; x64) AppleWebKit/537.36 (KHTML, like Gecko) Chrome/91.0.4472.124 Safari/537.36',\n",
    "            'Accept': 'text/html,application/xhtml+xml,application/xml;q=0.9,image/webp,/;q=0.8',\n",
    "            'Accept-Language': 'en-US,en;q=0.5',\n",
    "        }\n",
    "        self.ebay_base = \"https://www.ebay.com/sch/i.html?_nkw=\"\n",
    "        self.walmart_base = \"https://www.walmart.com/search?q=\"\n",
    "        self.amazon_base = \"https://www.amazon.com/s?k=\"\n",
    "        self.flipkart_base = \"https://www.flipkart.com/search?q=\"\n",
    "\n",
    "    def _get_page_content(self, url):\n",
    "        try:\n",
    "            time.sleep(random.uniform(2, 4))  # Random delay to avoid blocking\n",
    "            response = requests.get(url, headers=self.headers)\n",
    "            response.raise_for_status()\n",
    "            return BeautifulSoup(response.content, 'html.parser')\n",
    "        except requests.RequestException as e:\n",
    "            print(f\"Error fetching {url}: {str(e)}\")\n",
    "            return None\n",
    "\n",
    "    def clean_price(self, price_str):\n",
    "        \"\"\"Clean price string to float\"\"\"\n",
    "        try:\n",
    "            return float(price_str.replace('$', '').replace('₹', '').replace(',', '').replace('from', '').strip())\n",
    "        except:\n",
    "            return None\n",
    "\n",
    "    def scrape_ebay(self, search_term):\n",
    "        url = self.ebay_base + quote(search_term)\n",
    "        soup = self._get_page_content(url)\n",
    "        if not soup:\n",
    "            return []\n",
    "\n",
    "        products = []\n",
    "        items = soup.find_all('div', {'class': 's-item__info'})\n",
    "        \n",
    "        for item in items[:5]:  # Limit to first 5 results\n",
    "            try:\n",
    "                # Get title\n",
    "                title_elem = item.find('div', {'class': 's-item__title'})\n",
    "                if not title_elem or 'Shop on eBay' in title_elem.text:\n",
    "                    continue\n",
    "                title = title_elem.text.strip()\n",
    "\n",
    "                # Get price\n",
    "                price_elem = item.find('span', {'class': 's-item__price'})\n",
    "                if not price_elem:\n",
    "                    continue\n",
    "                price = self.clean_price(price_elem.text)\n",
    "                if not price:\n",
    "                    continue\n",
    "\n",
    "                # Get link\n",
    "                link_elem = item.find('a', {'class': 's-item__link'})\n",
    "                link = link_elem['href'] if link_elem else ''\n",
    "\n",
    "                # Get condition\n",
    "                condition_elem = item.find('span', {'class': 's-item__condition'})\n",
    "                condition = condition_elem.text if condition_elem else 'Not specified'\n",
    "\n",
    "                # Get shipping\n",
    "                shipping_elem = item.find('span', {'class': 's-item__shipping'})\n",
    "                shipping = shipping_elem.text if shipping_elem else 'Not specified'\n",
    "\n",
    "                products.append({\n",
    "                    'title': title,\n",
    "                    'price': price,\n",
    "                    'link': link,\n",
    "                    'source': 'eBay',\n",
    "                    'condition': condition,\n",
    "                    'shipping': shipping\n",
    "                })\n",
    "            except Exception as e:\n",
    "                continue\n",
    "\n",
    "        return products\n",
    "\n",
    "    def scrape_walmart(self, search_term):\n",
    "        url = self.walmart_base + quote(search_term)\n",
    "        soup = self._get_page_content(url)\n",
    "        if not soup:\n",
    "            return []\n",
    "\n",
    "        products = []\n",
    "        items = soup.find_all('div', {'data-item-id': True})\n",
    "        \n",
    "        for item in items[:5]:  # Limit to first 5 results\n",
    "            try:\n",
    "                # Get title\n",
    "                title_elem = item.find('span', {'data-automation-id': 'product-title'})\n",
    "                if not title_elem:\n",
    "                    continue\n",
    "                title = title_elem.text.strip()\n",
    "\n",
    "                # Get price\n",
    "                price_elem = item.find('div', {'data-automation-id': 'product-price'})\n",
    "                if not price_elem:\n",
    "                    continue\n",
    "                price = self.clean_price(price_elem.text)\n",
    "                if not price:\n",
    "                    continue\n",
    "\n",
    "                # Get link\n",
    "                link = f\"https://www.walmart.com{item.find('a')['href']}\"\n",
    "\n",
    "                # Get availability\n",
    "                availability = 'In Stock' if price_elem else 'Out of Stock'\n",
    "\n",
    "                # Get fulfillment\n",
    "                fulfillment_elem = item.find('div', {'data-automation-id': 'fulfillment-badge'})\n",
    "                fulfillment = fulfillment_elem.text if fulfillment_elem else 'Standard shipping'\n",
    "\n",
    "                products.append({\n",
    "                    'title': title,\n",
    "                    'price': price,\n",
    "                    'link': link,\n",
    "                    'source': 'Walmart',\n",
    "                    'condition': 'New',  # Walmart typically sells new items\n",
    "                    'shipping': fulfillment\n",
    "                })\n",
    "            except Exception as e:\n",
    "                continue\n",
    "\n",
    "        return products\n",
    "\n",
    "    def scrape_amazon(self, search_term):\n",
    "        url = self.amazon_base + quote(search_term)\n",
    "        soup = self._get_page_content(url)\n",
    "        if not soup:\n",
    "            return []\n",
    "\n",
    "        products = []\n",
    "        items = soup.find_all('div', {'data-component-type': 's-search-result'})\n",
    "        \n",
    "        for item in items[:5]:  # Limit to first 5 results\n",
    "            try:\n",
    "                # Get title\n",
    "                title_elem = item.find('span', {'class': 'a-size-medium'})\n",
    "                if not title_elem:\n",
    "                    continue\n",
    "                title = title_elem.text.strip()\n",
    "\n",
    "                # Get price\n",
    "                price_elem = item.find('span', {'class': 'a-offscreen'})\n",
    "                if not price_elem:\n",
    "                    continue\n",
    "                price = self.clean_price(price_elem.text)\n",
    "                if not price:\n",
    "                    continue\n",
    "\n",
    "                # Get link\n",
    "                link_elem = item.find('a', {'class': 'a-link-normal'})\n",
    "                link = f\"https://www.amazon.com{link_elem['href']}\" if link_elem else ''\n",
    "\n",
    "                # Get condition\n",
    "                condition = 'New'  # Assume new for Amazon\n",
    "\n",
    "                # Get shipping\n",
    "                shipping_elem = item.find('div', {'class': 'a-row a-size-base a-color-secondary'})\n",
    "                shipping = shipping_elem.text if shipping_elem else 'Standard shipping'\n",
    "\n",
    "                products.append({\n",
    "                    'title': title,\n",
    "                    'price': price,\n",
    "                    'link': link,\n",
    "                    'source': 'Amazon',\n",
    "                    'condition': condition,\n",
    "                    'shipping': shipping\n",
    "                })\n",
    "            except Exception as e:\n",
    "                continue\n",
    "\n",
    "        return products\n",
    "\n",
    "    def scrape_flipkart(self, search_term):\n",
    "        url = self.flipkart_base + quote(search_term)\n",
    "        soup = self._get_page_content(url)\n",
    "        if not soup:\n",
    "            return []\n",
    "\n",
    "        products = []\n",
    "        items = soup.find_all('div', {'class': '_1AtVbE'})\n",
    "        \n",
    "        for item in items[:5]:  # Limit to first 5 results\n",
    "            try:\n",
    "                # Get title\n",
    "                title_elem = item.find('div', {'class': '_4rR01T'})\n",
    "                if not title_elem:\n",
    "                    continue\n",
    "                title = title_elem.text.strip()\n",
    "\n",
    "                # Get price\n",
    "                price_elem = item.find('div', {'class': '_30jeq3'})\n",
    "                if not price_elem:\n",
    "                    continue\n",
    "                price = self.clean_price(price_elem.text)\n",
    "                if not price:\n",
    "                    continue\n",
    "\n",
    "                # Get link\n",
    "                link_elem = item.find('a', {'class': '_1fQZEK'})\n",
    "                link = f\"https://www.flipkart.com{link_elem['href']}\" if link_elem else ''\n",
    "\n",
    "                # Get condition\n",
    "                condition = 'New'  # Assume new for Flipkart\n",
    "\n",
    "                # Get shipping\n",
    "                shipping = 'Standard shipping'  # Flipkart typically offers standard shipping\n",
    "\n",
    "                products.append({\n",
    "                    'title': title,\n",
    "                    'price': price,\n",
    "                    'link': link,\n",
    "                    'source': 'Flipkart',\n",
    "                    'condition': condition,\n",
    "                    'shipping': shipping\n",
    "                })\n",
    "            except Exception as e:\n",
    "                continue\n",
    "\n",
    "        return products\n",
    "\n",
    "    def compare_prices(self, search_term):\n",
    "        print(f\"Searching for '{search_term}'...\")\n",
    "        \n",
    "        ebay_products = self.scrape_ebay(search_term)\n",
    "        print(f\"Found {len(ebay_products)} products from eBay\")\n",
    "        \n",
    "        walmart_products = self.scrape_walmart(search_term)\n",
    "        print(f\"Found {len(walmart_products)} products from Walmart\")\n",
    "        \n",
    "        amazon_products = self.scrape_amazon(search_term)\n",
    "        print(f\"Found {len(amazon_products)} products from Amazon\")\n",
    "        \n",
    "        flipkart_products = self.scrape_flipkart(search_term)\n",
    "        print(f\"Found {len(flipkart_products)} products from Flipkart\")\n",
    "        \n",
    "        all_products = ebay_products + walmart_products + amazon_products + flipkart_products\n",
    "        \n",
    "        if not all_products:\n",
    "            print(\"No products found!\")\n",
    "            return pd.DataFrame()\n",
    "        \n",
    "        df = pd.DataFrame(all_products)\n",
    "        df['timestamp'] = datetime.now()\n",
    "        df = df.sort_values('price')\n",
    "        \n",
    "        return df"
   ]
  },
  {
   "cell_type": "code",
   "execution_count": 38,
   "id": "f867198a-89ea-4bab-aa98-82fda3d61372",
   "metadata": {},
   "outputs": [],
   "source": [
    "def create_price_comparison_chart(df):\n",
    "    \"\"\"Create an interactive price comparison chart\"\"\"\n",
    "    fig = go.Figure()\n",
    "    \n",
    "    for source in df['source'].unique():\n",
    "        source_data = df[df['source'] == source]\n",
    "        fig.add_trace(go.Box(\n",
    "            y=source_data['price'],\n",
    "            name=source,\n",
    "            boxpoints='all',\n",
    "            jitter=0.3,\n",
    "            pointpos=-1.8,\n",
    "            hovertext=source_data['title']\n",
    "        ))\n",
    "    \n",
    "    fig.update_layout(\n",
    "        title='Price Distribution by Retailer',\n",
    "        yaxis_title='Price ($)',\n",
    "        showlegend=True\n",
    "    )\n",
    "    \n",
    "    return fig\n",
    "\n",
    "def create_condition_chart(df):\n",
    "    \"\"\"Create a chart showing product conditions\"\"\"\n",
    "    condition_data = df.groupby(['source', 'condition']).size().reset_index(name='count')\n",
    "    fig = px.bar(condition_data, \n",
    "                 x='source', \n",
    "                 y='count', \n",
    "                 color='condition',\n",
    "                 title='Product Conditions by Retailer',\n",
    "                 labels={'count': 'Number of Products', 'source': 'Retailer'})\n",
    "    return fig\n",
    "\n",
    "def search_and_visualize(search_term):\n",
    "    scraper = PriceComparisonScraper()\n",
    "    results = scraper.compare_prices(search_term)\n",
    "    \n",
    "    if results.empty:\n",
    "        print(\"No results found. Try a different search term.\")\n",
    "        return\n",
    "    \n",
    "    # Display basic results table\n",
    "    display(HTML(\"<h2>🔍 Price Comparison Results</h2>\"))\n",
    "    styled_df = results[['title', 'price', 'source', 'condition', 'shipping']].style.format({\n",
    "        'price': '${:.2f}'\n",
    "    }).background_gradient(subset=['price'], cmap='RdYlGn_r')\n",
    "    display(styled_df)\n",
    "    \n",
    "    # Display price comparis                                                                                                                                                                                                                                                                                                                                                                                                                                                                                                                                                                                                                                                                                                                                                                                                                                                                  on chart\n",
    "    price_fig = create_price_comparison_chart(results)\n",
    "    price_fig.show()\n",
    "    \n",
    "    # Display condition chart\n",
    "    condition_fig = create_condition_chart(results)\n",
    "    condition_fig.show()                                                                          \n",
    "    \n",
    "    # Display summary statistics\n",
    "    display(HTML(\"<h3>📊 Price Summary Statistics</h3>\"))\n",
    "    summary_stats = pd.DataFrame({\n",
    "        'Metric': ['Lowest Price', 'Highest Price', 'Average Price', 'Median Price', 'Price Range'],\n",
    "        'Value': [\n",
    "            f\"${results['price'].min():.2f}\",\n",
    "            f\"${results['price'].max():.2f}\",\n",
    "            f\"${results['price'].mean():.2f}\",\n",
    "            f\"${results['price'].median():.2f}\",\n",
    "            f\"${results['price'].max() - results['price'].min():.2f}\"\n",
    "        ]\n",
    "    })\n",
    "    display(summary_stats)\n",
    "    \n",
    "    # Save results\n",
    "    filename = f\"price_comparison_{datetime.now().strftime('%Y%m%d_%H%M%S')}.csv\"\n",
    "    results.to_csv(filename, index=False)\n",
    "    print(f\"\\n💾 Results saved to {filename}\")"
   ]
  },
  {
   "cell_type": "code",
   "execution_count": null,
   "id": "f95d1790-427a-4aa2-a2a8-413361d6abee",
   "metadata": {},
   "outputs": [
    {
     "name": "stdout",
     "output_type": "stream",
     "text": [
      "Defaulting to user installation because normal site-packages is not writeableNote: you may need to restart the kernel to use updated packages.\n"
     ]
    },
    {
     "name": "stderr",
     "output_type": "stream",
     "text": [
      "\n",
      "[notice] A new release of pip is available: 24.2 -> 24.3.1\n",
      "[notice] To update, run: python.exe -m pip install --upgrade pip\n"
     ]
    },
    {
     "name": "stdout",
     "output_type": "stream",
     "text": [
      "\n",
      "Requirement already satisfied: matplotlib in c:\\users\\haris\\appdata\\roaming\\python\\python312\\site-packages (3.9.2)\n",
      "Requirement already satisfied: contourpy>=1.0.1 in c:\\users\\haris\\appdata\\roaming\\python\\python312\\site-packages (from matplotlib) (1.3.0)\n",
      "Requirement already satisfied: cycler>=0.10 in c:\\users\\haris\\appdata\\roaming\\python\\python312\\site-packages (from matplotlib) (0.12.1)\n",
      "Requirement already satisfied: fonttools>=4.22.0 in c:\\users\\haris\\appdata\\roaming\\python\\python312\\site-packages (from matplotlib) (4.54.1)\n",
      "Requirement already satisfied: kiwisolver>=1.3.1 in c:\\users\\haris\\appdata\\roaming\\python\\python312\\site-packages (from matplotlib) (1.4.7)\n",
      "Requirement already satisfied: numpy>=1.23 in c:\\users\\haris\\appdata\\roaming\\python\\python312\\site-packages (from matplotlib) (1.26.3)\n",
      "Requirement already satisfied: packaging>=20.0 in c:\\users\\haris\\appdata\\roaming\\python\\python312\\site-packages (from matplotlib) (24.1)\n",
      "Requirement already satisfied: pillow>=8 in c:\\users\\haris\\appdata\\roaming\\python\\python312\\site-packages (from matplotlib) (10.4.0)\n",
      "Requirement already satisfied: pyparsing>=2.3.1 in c:\\users\\haris\\appdata\\roaming\\python\\python312\\site-packages (from matplotlib) (3.1.4)\n",
      "Requirement already satisfied: python-dateutil>=2.7 in c:\\users\\haris\\appdata\\roaming\\python\\python312\\site-packages (from matplotlib) (2.9.0.post0)\n",
      "Requirement already satisfied: six>=1.5 in c:\\users\\haris\\appdata\\roaming\\python\\python312\\site-packages (from python-dateutil>=2.7->matplotlib) (1.16.0)\n"
     ]
    }
   ],
   "source": [
    "pip install matplotlib"
   ]
  },
  {
   "cell_type": "code",
   "execution_count": 40,
   "id": "d55a4f2d-daac-4f62-b47f-ac0e39e02b6b",
   "metadata": {},
   "outputs": [
    {
     "data": {
      "application/vnd.plotly.v1+json": {
       "config": {
        "plotlyServerURL": "https://plot.ly"
       },
       "data": [
        {
         "boxpoints": "all",
         "hovertext": [
          "Apple AirPods Pro 2nd Generation LIGHTNING Right Airpods A2698 - Genuine Apple",
          "Apple AirPods Pro With Wireless Magsafe Charging Case ‎MLWK3AM/A - Excellent",
          "Apple AirPods Pro (2nd Gen.) USB-C White - Excellent w/ Charging Case"
         ],
         "jitter": 0.3,
         "name": "eBay",
         "pointpos": -1.8,
         "type": "box",
         "y": [
          88,
          119.95,
          144.99
         ]
        },
        {
         "boxpoints": "all",
         "hovertext": [
          "Apple AirPods Pro (2nd Generation) (Renewed)"
         ],
         "jitter": 0.3,
         "name": "Amazon",
         "pointpos": -1.8,
         "type": "box",
         "y": [
          179
         ]
        }
       ],
       "layout": {
        "showlegend": true,
        "template": {
         "data": {
          "bar": [
           {
            "error_x": {
             "color": "#2a3f5f"
            },
            "error_y": {
             "color": "#2a3f5f"
            },
            "marker": {
             "line": {
              "color": "#E5ECF6",
              "width": 0.5
             },
             "pattern": {
              "fillmode": "overlay",
              "size": 10,
              "solidity": 0.2
             }
            },
            "type": "bar"
           }
          ],
          "barpolar": [
           {
            "marker": {
             "line": {
              "color": "#E5ECF6",
              "width": 0.5
             },
             "pattern": {
              "fillmode": "overlay",
              "size": 10,
              "solidity": 0.2
             }
            },
            "type": "barpolar"
           }
          ],
          "carpet": [
           {
            "aaxis": {
             "endlinecolor": "#2a3f5f",
             "gridcolor": "white",
             "linecolor": "white",
             "minorgridcolor": "white",
             "startlinecolor": "#2a3f5f"
            },
            "baxis": {
             "endlinecolor": "#2a3f5f",
             "gridcolor": "white",
             "linecolor": "white",
             "minorgridcolor": "white",
             "startlinecolor": "#2a3f5f"
            },
            "type": "carpet"
           }
          ],
          "choropleth": [
           {
            "colorbar": {
             "outlinewidth": 0,
             "ticks": ""
            },
            "type": "choropleth"
           }
          ],
          "contour": [
           {
            "colorbar": {
             "outlinewidth": 0,
             "ticks": ""
            },
            "colorscale": [
             [
              0,
              "#0d0887"
             ],
             [
              0.1111111111111111,
              "#46039f"
             ],
             [
              0.2222222222222222,
              "#7201a8"
             ],
             [
              0.3333333333333333,
              "#9c179e"
             ],
             [
              0.4444444444444444,
              "#bd3786"
             ],
             [
              0.5555555555555556,
              "#d8576b"
             ],
             [
              0.6666666666666666,
              "#ed7953"
             ],
             [
              0.7777777777777778,
              "#fb9f3a"
             ],
             [
              0.8888888888888888,
              "#fdca26"
             ],
             [
              1,
              "#f0f921"
             ]
            ],
            "type": "contour"
           }
          ],
          "contourcarpet": [
           {
            "colorbar": {
             "outlinewidth": 0,
             "ticks": ""
            },
            "type": "contourcarpet"
           }
          ],
          "heatmap": [
           {
            "colorbar": {
             "outlinewidth": 0,
             "ticks": ""
            },
            "colorscale": [
             [
              0,
              "#0d0887"
             ],
             [
              0.1111111111111111,
              "#46039f"
             ],
             [
              0.2222222222222222,
              "#7201a8"
             ],
             [
              0.3333333333333333,
              "#9c179e"
             ],
             [
              0.4444444444444444,
              "#bd3786"
             ],
             [
              0.5555555555555556,
              "#d8576b"
             ],
             [
              0.6666666666666666,
              "#ed7953"
             ],
             [
              0.7777777777777778,
              "#fb9f3a"
             ],
             [
              0.8888888888888888,
              "#fdca26"
             ],
             [
              1,
              "#f0f921"
             ]
            ],
            "type": "heatmap"
           }
          ],
          "heatmapgl": [
           {
            "colorbar": {
             "outlinewidth": 0,
             "ticks": ""
            },
            "colorscale": [
             [
              0,
              "#0d0887"
             ],
             [
              0.1111111111111111,
              "#46039f"
             ],
             [
              0.2222222222222222,
              "#7201a8"
             ],
             [
              0.3333333333333333,
              "#9c179e"
             ],
             [
              0.4444444444444444,
              "#bd3786"
             ],
             [
              0.5555555555555556,
              "#d8576b"
             ],
             [
              0.6666666666666666,
              "#ed7953"
             ],
             [
              0.7777777777777778,
              "#fb9f3a"
             ],
             [
              0.8888888888888888,
              "#fdca26"
             ],
             [
              1,
              "#f0f921"
             ]
            ],
            "type": "heatmapgl"
           }
          ],
          "histogram": [
           {
            "marker": {
             "pattern": {
              "fillmode": "overlay",
              "size": 10,
              "solidity": 0.2
             }
            },
            "type": "histogram"
           }
          ],
          "histogram2d": [
           {
            "colorbar": {
             "outlinewidth": 0,
             "ticks": ""
            },
            "colorscale": [
             [
              0,
              "#0d0887"
             ],
             [
              0.1111111111111111,
              "#46039f"
             ],
             [
              0.2222222222222222,
              "#7201a8"
             ],
             [
              0.3333333333333333,
              "#9c179e"
             ],
             [
              0.4444444444444444,
              "#bd3786"
             ],
             [
              0.5555555555555556,
              "#d8576b"
             ],
             [
              0.6666666666666666,
              "#ed7953"
             ],
             [
              0.7777777777777778,
              "#fb9f3a"
             ],
             [
              0.8888888888888888,
              "#fdca26"
             ],
             [
              1,
              "#f0f921"
             ]
            ],
            "type": "histogram2d"
           }
          ],
          "histogram2dcontour": [
           {
            "colorbar": {
             "outlinewidth": 0,
             "ticks": ""
            },
            "colorscale": [
             [
              0,
              "#0d0887"
             ],
             [
              0.1111111111111111,
              "#46039f"
             ],
             [
              0.2222222222222222,
              "#7201a8"
             ],
             [
              0.3333333333333333,
              "#9c179e"
             ],
             [
              0.4444444444444444,
              "#bd3786"
             ],
             [
              0.5555555555555556,
              "#d8576b"
             ],
             [
              0.6666666666666666,
              "#ed7953"
             ],
             [
              0.7777777777777778,
              "#fb9f3a"
             ],
             [
              0.8888888888888888,
              "#fdca26"
             ],
             [
              1,
              "#f0f921"
             ]
            ],
            "type": "histogram2dcontour"
           }
          ],
          "mesh3d": [
           {
            "colorbar": {
             "outlinewidth": 0,
             "ticks": ""
            },
            "type": "mesh3d"
           }
          ],
          "parcoords": [
           {
            "line": {
             "colorbar": {
              "outlinewidth": 0,
              "ticks": ""
             }
            },
            "type": "parcoords"
           }
          ],
          "pie": [
           {
            "automargin": true,
            "type": "pie"
           }
          ],
          "scatter": [
           {
            "fillpattern": {
             "fillmode": "overlay",
             "size": 10,
             "solidity": 0.2
            },
            "type": "scatter"
           }
          ],
          "scatter3d": [
           {
            "line": {
             "colorbar": {
              "outlinewidth": 0,
              "ticks": ""
             }
            },
            "marker": {
             "colorbar": {
              "outlinewidth": 0,
              "ticks": ""
             }
            },
            "type": "scatter3d"
           }
          ],
          "scattercarpet": [
           {
            "marker": {
             "colorbar": {
              "outlinewidth": 0,
              "ticks": ""
             }
            },
            "type": "scattercarpet"
           }
          ],
          "scattergeo": [
           {
            "marker": {
             "colorbar": {
              "outlinewidth": 0,
              "ticks": ""
             }
            },
            "type": "scattergeo"
           }
          ],
          "scattergl": [
           {
            "marker": {
             "colorbar": {
              "outlinewidth": 0,
              "ticks": ""
             }
            },
            "type": "scattergl"
           }
          ],
          "scattermapbox": [
           {
            "marker": {
             "colorbar": {
              "outlinewidth": 0,
              "ticks": ""
             }
            },
            "type": "scattermapbox"
           }
          ],
          "scatterpolar": [
           {
            "marker": {
             "colorbar": {
              "outlinewidth": 0,
              "ticks": ""
             }
            },
            "type": "scatterpolar"
           }
          ],
          "scatterpolargl": [
           {
            "marker": {
             "colorbar": {
              "outlinewidth": 0,
              "ticks": ""
             }
            },
            "type": "scatterpolargl"
           }
          ],
          "scatterternary": [
           {
            "marker": {
             "colorbar": {
              "outlinewidth": 0,
              "ticks": ""
             }
            },
            "type": "scatterternary"
           }
          ],
          "surface": [
           {
            "colorbar": {
             "outlinewidth": 0,
             "ticks": ""
            },
            "colorscale": [
             [
              0,
              "#0d0887"
             ],
             [
              0.1111111111111111,
              "#46039f"
             ],
             [
              0.2222222222222222,
              "#7201a8"
             ],
             [
              0.3333333333333333,
              "#9c179e"
             ],
             [
              0.4444444444444444,
              "#bd3786"
             ],
             [
              0.5555555555555556,
              "#d8576b"
             ],
             [
              0.6666666666666666,
              "#ed7953"
             ],
             [
              0.7777777777777778,
              "#fb9f3a"
             ],
             [
              0.8888888888888888,
              "#fdca26"
             ],
             [
              1,
              "#f0f921"
             ]
            ],
            "type": "surface"
           }
          ],
          "table": [
           {
            "cells": {
             "fill": {
              "color": "#EBF0F8"
             },
             "line": {
              "color": "white"
             }
            },
            "header": {
             "fill": {
              "color": "#C8D4E3"
             },
             "line": {
              "color": "white"
             }
            },
            "type": "table"
           }
          ]
         },
         "layout": {
          "annotationdefaults": {
           "arrowcolor": "#2a3f5f",
           "arrowhead": 0,
           "arrowwidth": 1
          },
          "autotypenumbers": "strict",
          "coloraxis": {
           "colorbar": {
            "outlinewidth": 0,
            "ticks": ""
           }
          },
          "colorscale": {
           "diverging": [
            [
             0,
             "#8e0152"
            ],
            [
             0.1,
             "#c51b7d"
            ],
            [
             0.2,
             "#de77ae"
            ],
            [
             0.3,
             "#f1b6da"
            ],
            [
             0.4,
             "#fde0ef"
            ],
            [
             0.5,
             "#f7f7f7"
            ],
            [
             0.6,
             "#e6f5d0"
            ],
            [
             0.7,
             "#b8e186"
            ],
            [
             0.8,
             "#7fbc41"
            ],
            [
             0.9,
             "#4d9221"
            ],
            [
             1,
             "#276419"
            ]
           ],
           "sequential": [
            [
             0,
             "#0d0887"
            ],
            [
             0.1111111111111111,
             "#46039f"
            ],
            [
             0.2222222222222222,
             "#7201a8"
            ],
            [
             0.3333333333333333,
             "#9c179e"
            ],
            [
             0.4444444444444444,
             "#bd3786"
            ],
            [
             0.5555555555555556,
             "#d8576b"
            ],
            [
             0.6666666666666666,
             "#ed7953"
            ],
            [
             0.7777777777777778,
             "#fb9f3a"
            ],
            [
             0.8888888888888888,
             "#fdca26"
            ],
            [
             1,
             "#f0f921"
            ]
           ],
           "sequentialminus": [
            [
             0,
             "#0d0887"
            ],
            [
             0.1111111111111111,
             "#46039f"
            ],
            [
             0.2222222222222222,
             "#7201a8"
            ],
            [
             0.3333333333333333,
             "#9c179e"
            ],
            [
             0.4444444444444444,
             "#bd3786"
            ],
            [
             0.5555555555555556,
             "#d8576b"
            ],
            [
             0.6666666666666666,
             "#ed7953"
            ],
            [
             0.7777777777777778,
             "#fb9f3a"
            ],
            [
             0.8888888888888888,
             "#fdca26"
            ],
            [
             1,
             "#f0f921"
            ]
           ]
          },
          "colorway": [
           "#636efa",
           "#EF553B",
           "#00cc96",
           "#ab63fa",
           "#FFA15A",
           "#19d3f3",
           "#FF6692",
           "#B6E880",
           "#FF97FF",
           "#FECB52"
          ],
          "font": {
           "color": "#2a3f5f"
          },
          "geo": {
           "bgcolor": "white",
           "lakecolor": "white",
           "landcolor": "#E5ECF6",
           "showlakes": true,
           "showland": true,
           "subunitcolor": "white"
          },
          "hoverlabel": {
           "align": "left"
          },
          "hovermode": "closest",
          "mapbox": {
           "style": "light"
          },
          "paper_bgcolor": "white",
          "plot_bgcolor": "#E5ECF6",
          "polar": {
           "angularaxis": {
            "gridcolor": "white",
            "linecolor": "white",
            "ticks": ""
           },
           "bgcolor": "#E5ECF6",
           "radialaxis": {
            "gridcolor": "white",
            "linecolor": "white",
            "ticks": ""
           }
          },
          "scene": {
           "xaxis": {
            "backgroundcolor": "#E5ECF6",
            "gridcolor": "white",
            "gridwidth": 2,
            "linecolor": "white",
            "showbackground": true,
            "ticks": "",
            "zerolinecolor": "white"
           },
           "yaxis": {
            "backgroundcolor": "#E5ECF6",
            "gridcolor": "white",
            "gridwidth": 2,
            "linecolor": "white",
            "showbackground": true,
            "ticks": "",
            "zerolinecolor": "white"
           },
           "zaxis": {
            "backgroundcolor": "#E5ECF6",
            "gridcolor": "white",
            "gridwidth": 2,
            "linecolor": "white",
            "showbackground": true,
            "ticks": "",
            "zerolinecolor": "white"
           }
          },
          "shapedefaults": {
           "line": {
            "color": "#2a3f5f"
           }
          },
          "ternary": {
           "aaxis": {
            "gridcolor": "white",
            "linecolor": "white",
            "ticks": ""
           },
           "baxis": {
            "gridcolor": "white",
            "linecolor": "white",
            "ticks": ""
           },
           "bgcolor": "#E5ECF6",
           "caxis": {
            "gridcolor": "white",
            "linecolor": "white",
            "ticks": ""
           }
          },
          "title": {
           "x": 0.05
          },
          "xaxis": {
           "automargin": true,
           "gridcolor": "white",
           "linecolor": "white",
           "ticks": "",
           "title": {
            "standoff": 15
           },
           "zerolinecolor": "white",
           "zerolinewidth": 2
          },
          "yaxis": {
           "automargin": true,
           "gridcolor": "white",
           "linecolor": "white",
           "ticks": "",
           "title": {
            "standoff": 15
           },
           "zerolinecolor": "white",
           "zerolinewidth": 2
          }
         }
        },
        "title": {
         "text": "Price Distribution by Retailer"
        },
        "yaxis": {
         "title": {
          "text": "Price ($)"
         }
        }
       }
      }
     },
     "metadata": {},
     "output_type": "display_data"
    },
    {
     "data": {
      "application/vnd.plotly.v1+json": {
       "config": {
        "plotlyServerURL": "https://plot.ly"
       },
       "data": [
        {
         "alignmentgroup": "True",
         "hovertemplate": "condition=New<br>Retailer=%{x}<br>Number of Products=%{y}<extra></extra>",
         "legendgroup": "New",
         "marker": {
          "color": "#636efa",
          "pattern": {
           "shape": ""
          }
         },
         "name": "New",
         "offsetgroup": "New",
         "orientation": "v",
         "showlegend": true,
         "textposition": "auto",
         "type": "bar",
         "x": [
          "Amazon"
         ],
         "xaxis": "x",
         "y": [
          1
         ],
         "yaxis": "y"
        },
        {
         "alignmentgroup": "True",
         "hovertemplate": "condition=Not specified<br>Retailer=%{x}<br>Number of Products=%{y}<extra></extra>",
         "legendgroup": "Not specified",
         "marker": {
          "color": "#EF553B",
          "pattern": {
           "shape": ""
          }
         },
         "name": "Not specified",
         "offsetgroup": "Not specified",
         "orientation": "v",
         "showlegend": true,
         "textposition": "auto",
         "type": "bar",
         "x": [
          "eBay"
         ],
         "xaxis": "x",
         "y": [
          3
         ],
         "yaxis": "y"
        }
       ],
       "layout": {
        "barmode": "relative",
        "legend": {
         "title": {
          "text": "condition"
         },
         "tracegroupgap": 0
        },
        "template": {
         "data": {
          "bar": [
           {
            "error_x": {
             "color": "#2a3f5f"
            },
            "error_y": {
             "color": "#2a3f5f"
            },
            "marker": {
             "line": {
              "color": "#E5ECF6",
              "width": 0.5
             },
             "pattern": {
              "fillmode": "overlay",
              "size": 10,
              "solidity": 0.2
             }
            },
            "type": "bar"
           }
          ],
          "barpolar": [
           {
            "marker": {
             "line": {
              "color": "#E5ECF6",
              "width": 0.5
             },
             "pattern": {
              "fillmode": "overlay",
              "size": 10,
              "solidity": 0.2
             }
            },
            "type": "barpolar"
           }
          ],
          "carpet": [
           {
            "aaxis": {
             "endlinecolor": "#2a3f5f",
             "gridcolor": "white",
             "linecolor": "white",
             "minorgridcolor": "white",
             "startlinecolor": "#2a3f5f"
            },
            "baxis": {
             "endlinecolor": "#2a3f5f",
             "gridcolor": "white",
             "linecolor": "white",
             "minorgridcolor": "white",
             "startlinecolor": "#2a3f5f"
            },
            "type": "carpet"
           }
          ],
          "choropleth": [
           {
            "colorbar": {
             "outlinewidth": 0,
             "ticks": ""
            },
            "type": "choropleth"
           }
          ],
          "contour": [
           {
            "colorbar": {
             "outlinewidth": 0,
             "ticks": ""
            },
            "colorscale": [
             [
              0,
              "#0d0887"
             ],
             [
              0.1111111111111111,
              "#46039f"
             ],
             [
              0.2222222222222222,
              "#7201a8"
             ],
             [
              0.3333333333333333,
              "#9c179e"
             ],
             [
              0.4444444444444444,
              "#bd3786"
             ],
             [
              0.5555555555555556,
              "#d8576b"
             ],
             [
              0.6666666666666666,
              "#ed7953"
             ],
             [
              0.7777777777777778,
              "#fb9f3a"
             ],
             [
              0.8888888888888888,
              "#fdca26"
             ],
             [
              1,
              "#f0f921"
             ]
            ],
            "type": "contour"
           }
          ],
          "contourcarpet": [
           {
            "colorbar": {
             "outlinewidth": 0,
             "ticks": ""
            },
            "type": "contourcarpet"
           }
          ],
          "heatmap": [
           {
            "colorbar": {
             "outlinewidth": 0,
             "ticks": ""
            },
            "colorscale": [
             [
              0,
              "#0d0887"
             ],
             [
              0.1111111111111111,
              "#46039f"
             ],
             [
              0.2222222222222222,
              "#7201a8"
             ],
             [
              0.3333333333333333,
              "#9c179e"
             ],
             [
              0.4444444444444444,
              "#bd3786"
             ],
             [
              0.5555555555555556,
              "#d8576b"
             ],
             [
              0.6666666666666666,
              "#ed7953"
             ],
             [
              0.7777777777777778,
              "#fb9f3a"
             ],
             [
              0.8888888888888888,
              "#fdca26"
             ],
             [
              1,
              "#f0f921"
             ]
            ],
            "type": "heatmap"
           }
          ],
          "heatmapgl": [
           {
            "colorbar": {
             "outlinewidth": 0,
             "ticks": ""
            },
            "colorscale": [
             [
              0,
              "#0d0887"
             ],
             [
              0.1111111111111111,
              "#46039f"
             ],
             [
              0.2222222222222222,
              "#7201a8"
             ],
             [
              0.3333333333333333,
              "#9c179e"
             ],
             [
              0.4444444444444444,
              "#bd3786"
             ],
             [
              0.5555555555555556,
              "#d8576b"
             ],
             [
              0.6666666666666666,
              "#ed7953"
             ],
             [
              0.7777777777777778,
              "#fb9f3a"
             ],
             [
              0.8888888888888888,
              "#fdca26"
             ],
             [
              1,
              "#f0f921"
             ]
            ],
            "type": "heatmapgl"
           }
          ],
          "histogram": [
           {
            "marker": {
             "pattern": {
              "fillmode": "overlay",
              "size": 10,
              "solidity": 0.2
             }
            },
            "type": "histogram"
           }
          ],
          "histogram2d": [
           {
            "colorbar": {
             "outlinewidth": 0,
             "ticks": ""
            },
            "colorscale": [
             [
              0,
              "#0d0887"
             ],
             [
              0.1111111111111111,
              "#46039f"
             ],
             [
              0.2222222222222222,
              "#7201a8"
             ],
             [
              0.3333333333333333,
              "#9c179e"
             ],
             [
              0.4444444444444444,
              "#bd3786"
             ],
             [
              0.5555555555555556,
              "#d8576b"
             ],
             [
              0.6666666666666666,
              "#ed7953"
             ],
             [
              0.7777777777777778,
              "#fb9f3a"
             ],
             [
              0.8888888888888888,
              "#fdca26"
             ],
             [
              1,
              "#f0f921"
             ]
            ],
            "type": "histogram2d"
           }
          ],
          "histogram2dcontour": [
           {
            "colorbar": {
             "outlinewidth": 0,
             "ticks": ""
            },
            "colorscale": [
             [
              0,
              "#0d0887"
             ],
             [
              0.1111111111111111,
              "#46039f"
             ],
             [
              0.2222222222222222,
              "#7201a8"
             ],
             [
              0.3333333333333333,
              "#9c179e"
             ],
             [
              0.4444444444444444,
              "#bd3786"
             ],
             [
              0.5555555555555556,
              "#d8576b"
             ],
             [
              0.6666666666666666,
              "#ed7953"
             ],
             [
              0.7777777777777778,
              "#fb9f3a"
             ],
             [
              0.8888888888888888,
              "#fdca26"
             ],
             [
              1,
              "#f0f921"
             ]
            ],
            "type": "histogram2dcontour"
           }
          ],
          "mesh3d": [
           {
            "colorbar": {
             "outlinewidth": 0,
             "ticks": ""
            },
            "type": "mesh3d"
           }
          ],
          "parcoords": [
           {
            "line": {
             "colorbar": {
              "outlinewidth": 0,
              "ticks": ""
             }
            },
            "type": "parcoords"
           }
          ],
          "pie": [
           {
            "automargin": true,
            "type": "pie"
           }
          ],
          "scatter": [
           {
            "fillpattern": {
             "fillmode": "overlay",
             "size": 10,
             "solidity": 0.2
            },
            "type": "scatter"
           }
          ],
          "scatter3d": [
           {
            "line": {
             "colorbar": {
              "outlinewidth": 0,
              "ticks": ""
             }
            },
            "marker": {
             "colorbar": {
              "outlinewidth": 0,
              "ticks": ""
             }
            },
            "type": "scatter3d"
           }
          ],
          "scattercarpet": [
           {
            "marker": {
             "colorbar": {
              "outlinewidth": 0,
              "ticks": ""
             }
            },
            "type": "scattercarpet"
           }
          ],
          "scattergeo": [
           {
            "marker": {
             "colorbar": {
              "outlinewidth": 0,
              "ticks": ""
             }
            },
            "type": "scattergeo"
           }
          ],
          "scattergl": [
           {
            "marker": {
             "colorbar": {
              "outlinewidth": 0,
              "ticks": ""
             }
            },
            "type": "scattergl"
           }
          ],
          "scattermapbox": [
           {
            "marker": {
             "colorbar": {
              "outlinewidth": 0,
              "ticks": ""
             }
            },
            "type": "scattermapbox"
           }
          ],
          "scatterpolar": [
           {
            "marker": {
             "colorbar": {
              "outlinewidth": 0,
              "ticks": ""
             }
            },
            "type": "scatterpolar"
           }
          ],
          "scatterpolargl": [
           {
            "marker": {
             "colorbar": {
              "outlinewidth": 0,
              "ticks": ""
             }
            },
            "type": "scatterpolargl"
           }
          ],
          "scatterternary": [
           {
            "marker": {
             "colorbar": {
              "outlinewidth": 0,
              "ticks": ""
             }
            },
            "type": "scatterternary"
           }
          ],
          "surface": [
           {
            "colorbar": {
             "outlinewidth": 0,
             "ticks": ""
            },
            "colorscale": [
             [
              0,
              "#0d0887"
             ],
             [
              0.1111111111111111,
              "#46039f"
             ],
             [
              0.2222222222222222,
              "#7201a8"
             ],
             [
              0.3333333333333333,
              "#9c179e"
             ],
             [
              0.4444444444444444,
              "#bd3786"
             ],
             [
              0.5555555555555556,
              "#d8576b"
             ],
             [
              0.6666666666666666,
              "#ed7953"
             ],
             [
              0.7777777777777778,
              "#fb9f3a"
             ],
             [
              0.8888888888888888,
              "#fdca26"
             ],
             [
              1,
              "#f0f921"
             ]
            ],
            "type": "surface"
           }
          ],
          "table": [
           {
            "cells": {
             "fill": {
              "color": "#EBF0F8"
             },
             "line": {
              "color": "white"
             }
            },
            "header": {
             "fill": {
              "color": "#C8D4E3"
             },
             "line": {
              "color": "white"
             }
            },
            "type": "table"
           }
          ]
         },
         "layout": {
          "annotationdefaults": {
           "arrowcolor": "#2a3f5f",
           "arrowhead": 0,
           "arrowwidth": 1
          },
          "autotypenumbers": "strict",
          "coloraxis": {
           "colorbar": {
            "outlinewidth": 0,
            "ticks": ""
           }
          },
          "colorscale": {
           "diverging": [
            [
             0,
             "#8e0152"
            ],
            [
             0.1,
             "#c51b7d"
            ],
            [
             0.2,
             "#de77ae"
            ],
            [
             0.3,
             "#f1b6da"
            ],
            [
             0.4,
             "#fde0ef"
            ],
            [
             0.5,
             "#f7f7f7"
            ],
            [
             0.6,
             "#e6f5d0"
            ],
            [
             0.7,
             "#b8e186"
            ],
            [
             0.8,
             "#7fbc41"
            ],
            [
             0.9,
             "#4d9221"
            ],
            [
             1,
             "#276419"
            ]
           ],
           "sequential": [
            [
             0,
             "#0d0887"
            ],
            [
             0.1111111111111111,
             "#46039f"
            ],
            [
             0.2222222222222222,
             "#7201a8"
            ],
            [
             0.3333333333333333,
             "#9c179e"
            ],
            [
             0.4444444444444444,
             "#bd3786"
            ],
            [
             0.5555555555555556,
             "#d8576b"
            ],
            [
             0.6666666666666666,
             "#ed7953"
            ],
            [
             0.7777777777777778,
             "#fb9f3a"
            ],
            [
             0.8888888888888888,
             "#fdca26"
            ],
            [
             1,
             "#f0f921"
            ]
           ],
           "sequentialminus": [
            [
             0,
             "#0d0887"
            ],
            [
             0.1111111111111111,
             "#46039f"
            ],
            [
             0.2222222222222222,
             "#7201a8"
            ],
            [
             0.3333333333333333,
             "#9c179e"
            ],
            [
             0.4444444444444444,
             "#bd3786"
            ],
            [
             0.5555555555555556,
             "#d8576b"
            ],
            [
             0.6666666666666666,
             "#ed7953"
            ],
            [
             0.7777777777777778,
             "#fb9f3a"
            ],
            [
             0.8888888888888888,
             "#fdca26"
            ],
            [
             1,
             "#f0f921"
            ]
           ]
          },
          "colorway": [
           "#636efa",
           "#EF553B",
           "#00cc96",
           "#ab63fa",
           "#FFA15A",
           "#19d3f3",
           "#FF6692",
           "#B6E880",
           "#FF97FF",
           "#FECB52"
          ],
          "font": {
           "color": "#2a3f5f"
          },
          "geo": {
           "bgcolor": "white",
           "lakecolor": "white",
           "landcolor": "#E5ECF6",
           "showlakes": true,
           "showland": true,
           "subunitcolor": "white"
          },
          "hoverlabel": {
           "align": "left"
          },
          "hovermode": "closest",
          "mapbox": {
           "style": "light"
          },
          "paper_bgcolor": "white",
          "plot_bgcolor": "#E5ECF6",
          "polar": {
           "angularaxis": {
            "gridcolor": "white",
            "linecolor": "white",
            "ticks": ""
           },
           "bgcolor": "#E5ECF6",
           "radialaxis": {
            "gridcolor": "white",
            "linecolor": "white",
            "ticks": ""
           }
          },
          "scene": {
           "xaxis": {
            "backgroundcolor": "#E5ECF6",
            "gridcolor": "white",
            "gridwidth": 2,
            "linecolor": "white",
            "showbackground": true,
            "ticks": "",
            "zerolinecolor": "white"
           },
           "yaxis": {
            "backgroundcolor": "#E5ECF6",
            "gridcolor": "white",
            "gridwidth": 2,
            "linecolor": "white",
            "showbackground": true,
            "ticks": "",
            "zerolinecolor": "white"
           },
           "zaxis": {
            "backgroundcolor": "#E5ECF6",
            "gridcolor": "white",
            "gridwidth": 2,
            "linecolor": "white",
            "showbackground": true,
            "ticks": "",
            "zerolinecolor": "white"
           }
          },
          "shapedefaults": {
           "line": {
            "color": "#2a3f5f"
           }
          },
          "ternary": {
           "aaxis": {
            "gridcolor": "white",
            "linecolor": "white",
            "ticks": ""
           },
           "baxis": {
            "gridcolor": "white",
            "linecolor": "white",
            "ticks": ""
           },
           "bgcolor": "#E5ECF6",
           "caxis": {
            "gridcolor": "white",
            "linecolor": "white",
            "ticks": ""
           }
          },
          "title": {
           "x": 0.05
          },
          "xaxis": {
           "automargin": true,
           "gridcolor": "white",
           "linecolor": "white",
           "ticks": "",
           "title": {
            "standoff": 15
           },
           "zerolinecolor": "white",
           "zerolinewidth": 2
          },
          "yaxis": {
           "automargin": true,
           "gridcolor": "white",
           "linecolor": "white",
           "ticks": "",
           "title": {
            "standoff": 15
           },
           "zerolinecolor": "white",
           "zerolinewidth": 2
          }
         }
        },
        "title": {
         "text": "Product Conditions by Retailer"
        },
        "xaxis": {
         "anchor": "y",
         "domain": [
          0,
          1
         ],
         "title": {
          "text": "Retailer"
         }
        },
        "yaxis": {
         "anchor": "x",
         "domain": [
          0,
          1
         ],
         "title": {
          "text": "Number of Products"
         }
        }
       }
      }
     },
     "metadata": {},
     "output_type": "display_data"
    },
    {
     "data": {
      "application/vnd.jupyter.widget-view+json": {
       "model_id": "d9d4a6d0c0b04394bb515a734e01923b",
       "version_major": 2,
       "version_minor": 0
      },
      "text/plain": [
       "interactive(children=(Text(value='airpods pro', description='🔍 Search:', placeholder='Type product name...', s…"
      ]
     },
     "metadata": {},
     "output_type": "display_data"
    }
   ],
   "source": [
    "from ipywidgets import interact, widgets\n",
    "\n",
    "@interact(\n",
    "    search_term=widgets.Text(\n",
    "        value='airpods pro',\n",
    "        placeholder='Type product name...',\n",
    "        description='🔍 Search:',\n",
    "        style={'description_width': 'initial'}\n",
    "    )\n",
    ")\n",
    "def interactive_search(search_term):\n",
    "    if search_term.strip():\n",
    "        search_and_visualize(search_term)"
   ]
  },
  {
   "cell_type": "code",
   "execution_count": 72,
   "id": "c990cd0c-d419-48c0-b97d-6cd8256cdf83",
   "metadata": {},
   "outputs": [],
   "source": [
    "import requests\n",
    "from bs4 import BeautifulSoup\n",
    "import pandas as pd\n",
    "from datetime import datetime\n",
    "import time\n",
    "import random\n",
    "from urllib.parse import quote\n",
    "import plotly.express as px\n",
    "import plotly.graph_objects as go\n",
    "from IPython.display import display, HTML\n",
    "import warnings\n",
    "import smtplib\n",
    "from email.mime.text import MIMEText\n",
    "\n",
    "warnings.filterwarnings('ignore')"
   ]
  },
  {
   "cell_type": "code",
   "execution_count": 80,
   "id": "5c939084",
   "metadata": {},
   "outputs": [],
   "source": [
    "class PriceComparisonScraper:\n",
    "    def __init__(self):\n",
    "        self.headers = {\n",
    "            'User-Agent': 'Mozilla/5.0 (Windows NT 10.0; Win64; x64) AppleWebKit/537.36 (KHTML, like Gecko) Chrome/91.0.4472.124 Safari/537.36',\n",
    "            'Accept': 'text/html,application/xhtml+xml,application/xml;q=0.9,image/webp,/;q=0.8',\n",
    "            'Accept-Language': 'en-US,en;q=0.5',\n",
    "        }\n",
    "        self.ebay_base = \"https://www.ebay.com/sch/i.html?_nkw=\"\n",
    "        self.walmart_base = \"https://www.walmart.com/search?q=\"\n",
    "        self.amazon_base = \"https://www.amazon.com/s?k=\"\n",
    "        self.flipkart_base = \"https://www.flipkart.com/search?q=\"\n",
    "\n",
    "    def _get_page_content(self, url):\n",
    "        try:\n",
    "            time.sleep(random.uniform(2, 4))  # Random delay to avoid blocking\n",
    "            response = requests.get(url, headers=self.headers)\n",
    "            response.raise_for_status()\n",
    "            return BeautifulSoup(response.content, 'html.parser')\n",
    "        except requests.RequestException as e:\n",
    "            print(f\"Error fetching {url}: {str(e)}\")\n",
    "            return None\n",
    "\n",
    "    def clean_price(self, price_str):\n",
    "        \"\"\"Clean price string to float\"\"\"\n",
    "        try:\n",
    "            return float(price_str.replace('$', '').replace('₹', '').replace(',', '').replace('from', '').strip())\n",
    "        except:\n",
    "            return None\n",
    "\n",
    "    def scrape_ebay(self, search_term):\n",
    "        url = self.ebay_base + quote(search_term)\n",
    "        soup = self._get_page_content(url)\n",
    "        if not soup:\n",
    "            return []\n",
    "\n",
    "        products = []\n",
    "        items = soup.find_all('div', {'class': 's-item__info'})\n",
    "        \n",
    "        for item in items[:5]:  # Limit to first 5 results\n",
    "            try:\n",
    "                # Get title\n",
    "                title_elem = item.find('div', {'class': 's-item__title'})\n",
    "                if not title_elem or 'Shop on eBay' in title_elem.text:\n",
    "                    continue\n",
    "                title = title_elem.text.strip()\n",
    "\n",
    "                # Get price\n",
    "                price_elem = item.find('span', {'class': 's-item__price'})\n",
    "                if not price_elem:\n",
    "                    continue\n",
    "                price = self.clean_price(price_elem.text)\n",
    "                if not price:\n",
    "                    continue\n",
    "\n",
    "                # Get link\n",
    "                link_elem = item.find('a', {'class': 's-item__link'})\n",
    "                link = link_elem['href'] if link_elem else ''\n",
    "\n",
    "                # Get condition\n",
    "                condition_elem = item.find('span', {'class': 's-item__condition'})\n",
    "                condition = condition_elem.text if condition_elem else 'Not specified'\n",
    "\n",
    "                # Get shipping\n",
    "                shipping_elem = item.find('span', {'class': 's-item__shipping'})\n",
    "                shipping = shipping_elem.text if shipping_elem else 'Not specified'\n",
    "\n",
    "                products.append({\n",
    "                    'title': title,\n",
    "                    'price': price,\n",
    "                    'link': link,\n",
    "                    'source': 'eBay',\n",
    "                    'condition': condition,\n",
    "                    'shipping': shipping\n",
    "                })\n",
    "            except Exception as e:\n",
    "                continue\n",
    "\n",
    "        return products\n",
    "\n",
    "    def scrape_walmart(self, search_term):\n",
    "        url = self.walmart_base + quote(search_term)\n",
    "        soup = self._get_page_content(url)\n",
    "        if not soup:\n",
    "            return []\n",
    "\n",
    "        products = []\n",
    "        items = soup.find_all('div', {'data-item-id': True})\n",
    "        \n",
    "        for item in items[:5]:  # Limit to first 5 results\n",
    "            try:\n",
    "                # Get title\n",
    "                title_elem = item.find('span', {'data-automation-id': 'product-title'})\n",
    "                if not title_elem:\n",
    "                    continue\n",
    "                title = title_elem.text.strip()\n",
    "\n",
    "                # Get price\n",
    "                price_elem = item.find('div', {'data-automation-id': 'product-price'})\n",
    "                if not price_elem:\n",
    "                    continue\n",
    "                price = self.clean_price(price_elem.text)\n",
    "                if not price:\n",
    "                    continue\n",
    "\n",
    "                # Get link\n",
    "                link = f\"https://www.walmart.com{item.find('a')['href']}\"\n",
    "\n",
    "                # Get availability\n",
    "                availability = 'In Stock' if price_elem else 'Out of Stock'\n",
    "\n",
    "                # Get fulfillment\n",
    "                fulfillment_elem = item.find('div', {'data-automation-id': 'fulfillment-badge'})\n",
    "                fulfillment = fulfillment_elem.text if fulfillment_elem else 'Standard shipping'\n",
    "\n",
    "                products.append({\n",
    "                    'title': title,\n",
    "                    'price': price,\n",
    "                    'link': link,\n",
    "                    'source': 'Walmart',\n",
    "                    'condition': 'New',  # Walmart typically sells new items\n",
    "                    'shipping': fulfillment\n",
    "                })\n",
    "            except Exception as e:\n",
    "                continue\n",
    "\n",
    "        return products\n",
    "\n",
    "    def scrape_amazon(self, search_term):\n",
    "        url = self.amazon_base + quote(search_term)\n",
    "        soup = self._get_page_content(url)\n",
    "        if not soup:\n",
    "            return []\n",
    "\n",
    "        products = []\n",
    "        items = soup.find_all('div', {'data-component-type': 's-search-result'})\n",
    "        \n",
    "        for item in items[:5]:  # Limit to first 5 results\n",
    "            try:\n",
    "                # Get title\n",
    "                title_elem = item.find('span', {'class': 'a-size-medium'})\n",
    "                if not title_elem:\n",
    "                    continue\n",
    "                title = title_elem.text.strip()\n",
    "\n",
    "                # Get price\n",
    "                price_elem = item.find('span', {'class': 'a-offscreen'})\n",
    "                if not price_elem:\n",
    "                    continue\n",
    "                price = self.clean_price(price_elem.text)\n",
    "                if not price:\n",
    "                    continue\n",
    "\n",
    "                # Get link\n",
    "                link_elem = item.find('a', {'class': 'a-link-normal'})\n",
    "                link = f\"https://www.amazon.com{link_elem['href']}\" if link_elem else ''\n",
    "\n",
    "                # Get condition\n",
    "                condition = 'New'  # Assume new for Amazon\n",
    "\n",
    "                # Get shipping\n",
    "                shipping_elem = item.find('div', {'class': 'a-row a-size-base a-color-secondary'})\n",
    "                shipping = shipping_elem.text if shipping_elem else 'Standard shipping'\n",
    "\n",
    "                products.append({\n",
    "                    'title': title,\n",
    "                    'price': price,\n",
    "                    'link': link,\n",
    "                    'source': 'Amazon',\n",
    "                    'condition': condition,\n",
    "                    'shipping': shipping\n",
    "                })\n",
    "            except Exception as e:\n",
    "                continue\n",
    "\n",
    "        return products\n",
    "\n",
    "    def scrape_flipkart(self, search_term):\n",
    "        url = self.flipkart_base + quote(search_term)\n",
    "        soup = self._get_page_content(url)\n",
    "        if not soup:\n",
    "            return []\n",
    "\n",
    "        products = []\n",
    "        items = soup.find_all('div', {'class': '_1AtVbE'})\n",
    "        \n",
    "        for item in items[:5]:  # Limit to first 5 results\n",
    "            try:\n",
    "                # Get title\n",
    "                title_elem = item.find('div', {'class': '_4rR01T'})\n",
    "                if not title_elem:\n",
    "                    continue\n",
    "                title = title_elem.text.strip()\n",
    "\n",
    "                # Get price\n",
    "                price_elem = item.find('div', {'class': '_30jeq3'})\n",
    "                if not price_elem:\n",
    "                    continue\n",
    "                price = self.clean_price(price_elem.text)\n",
    "                if not price:\n",
    "                    continue\n",
    "\n",
    "                # Get link\n",
    "                link_elem = item.find('a', {'class': '_1fQZEK'})\n",
    "                link = f\"https://www.flipkart.com{link_elem['href']}\" if link_elem else ''\n",
    "\n",
    "                # Get condition\n",
    "                condition = 'New'  # Assume new for Flipkart\n",
    "\n",
    "                # Get shipping\n",
    "                shipping = 'Standard shipping'  # Flipkart typically offers standard shipping\n",
    "\n",
    "                products.append({\n",
    "                    'title': title,\n",
    "                    'price': price,\n",
    "                    'link': link,\n",
    "                    'source': 'Flipkart',\n",
    "                    'condition': condition,\n",
    "                    'shipping': shipping\n",
    "                })\n",
    "            except Exception as e:\n",
    "                continue\n",
    "\n",
    "        return products\n",
    "\n",
    "\n",
    "    def send_email(self, recipient, subject, body):\n",
    "        sender = \"your_email@example.com\"  # Replace with your email address\n",
    "        msg = MIMEText(body)\n",
    "        msg['Subject'] = subject\n",
    "        msg['From'] = sender\n",
    "        msg['To'] = recipient\n",
    "\n",
    "        with smtplib.SMTP('localhost') as smtp:\n",
    "            smtp.send_message(msg)\n",
    "\n",
    "    def compare_prices(self, search_term):\n",
    "        print(f\"Searching for '{search_term}'...\")\n",
    "        \n",
    "        ebay_products = self.scrape_ebay(search_term)\n",
    "        print(f\"Found {len(ebay_products)} products from eBay\")\n",
    "        \n",
    "        walmart_products = self.scrape_walmart(search_term)\n",
    "        print(f\"Found {len(walmart_products)} products from Walmart\")\n",
    "        \n",
    "        amazon_products = self.scrape_amazon(search_term)\n",
    "        print(f\"Found {len(amazon_products)} products from Amazon\")\n",
    "        \n",
    "        flipkart_products = self.scrape_flipkart(search_term)\n",
    "        print(f\"Found {len(flipkart_products)} products from Flipkart\")\n",
    "        \n",
    "        all_products = ebay_products + walmart_products + amazon_products + flipkart_products\n",
    "        \n",
    "        if not all_products:\n",
    "            print(\"No products found!\")\n",
    "            return pd.DataFrame()\n",
    "        \n",
    "        df = pd.DataFrame(all_products)\n",
    "        df['timestamp'] = datetime.now()\n",
    "        df = df.sort_values('price')\n",
    "        body = df.to_html(index=False)\n",
    "        subject = f\"Price Comparison for '{search_term}'\"\n",
    "        self.send_email(recipient_email, subject, body)\n",
    "        \n",
    "        return df\n",
    "\n",
    "def create_price_comparison_chart(df):\n",
    "    \"\"\"Create an interactive price comparison chart\"\"\"\n",
    "    fig = go.Figure()\n",
    "    \n",
    "    for source in df['source'].unique():\n",
    "        source_data = df[df['source'] == source]\n",
    "        fig.add_trace(go.Box(\n",
    "            y=source_data['price'],\n",
    "            name=source,\n",
    "            boxpoints='all',\n",
    "            jitter=0.3,\n",
    "            pointpos=-1.8,\n",
    "            hovertext=source_data['title']\n",
    "        ))\n",
    "    \n",
    "    fig.update_layout(\n",
    "        title='Price Distribution by Retailer',\n",
    "        yaxis_title='Price ($)',\n",
    "        showlegend=True\n",
    "    )\n",
    "    \n",
    "    return fig"
   ]
  },
  {
   "cell_type": "code",
   "execution_count": 81,
   "id": "3539f02f",
   "metadata": {},
   "outputs": [],
   "source": [
    "def create_condition_chart(df):\n",
    "    \"\"\"Create a chart showing product conditions\"\"\"\n",
    "    condition_data = df.groupby(['source', 'condition']).size().reset_index(name='count')\n",
    "    fig = px.bar(condition_data, \n",
    "                 x='source', \n",
    "                 y='count', \n",
    "                 color='condition',\n",
    "                 title='Product Conditions by Retailer',\n",
    "                 labels={'count': 'Number of Products', 'source': 'Retailer'})\n",
    "    return fig\n",
    "\n",
    "def search_and_visualize(search_term):\n",
    "    scraper = PriceComparisonScraper()\n",
    "    results = scraper.compare_prices(search_term)\n",
    "    \n",
    "    if results.empty:\n",
    "        print(\"No results found. Try a different search term.\")\n",
    "        return\n",
    "    \n",
    "    # Display basic results table\n",
    "    display(HTML(\"<h2>🔍 Price Comparison Results</h2>\"))\n",
    "    styled_df = results[['title', 'price', 'source', 'condition', 'shipping']].style.format({\n",
    "        'price': '${:.2f}'\n",
    "    }).background_gradient(subset=['price'], cmap='RdYlGn_r')\n",
    "    display(styled_df)\n",
    "    \n",
    "    # Display price comparison chart\n",
    "    price_fig = create_price_comparison_chart(results)\n",
    "    price_fig.show()\n",
    "    \n",
    "    # Display condition chart\n",
    "    condition_fig = create_condition_chart(results)\n",
    "    condition_fig.show()\n",
    "    \n",
    "    # Display summary statistics\n",
    "    display(HTML(\"<h3>📊 Price Summary Statistics</h3>\"))\n",
    "    summary_stats = pd.DataFrame({\n",
    "        'Metric': ['Lowest Price', 'Highest Price', 'Average Price', 'Median Price', 'Price Range'],\n",
    "        'Value': [\n",
    "            f\"${results['price'].min():.2f}\",\n",
    "            f\"${results['price'].max():.2f}\",\n",
    "            f\"${results['price'].mean():.2f}\",\n",
    "            f\"${results['price'].median():.2f}\",\n",
    "            f\"${results['price'].max() - results['price'].min():.2f}\"\n",
    "        ]\n",
    "    })\n",
    "    display(summary_stats)\n",
    "    \n",
    "    # Save results\n",
    "    filename = f\"price_comparison_{datetime.now().strftime('%Y%m%d_%H%M%S')}.csv\"\n",
    "    results.to_csv(filename, index=False)\n",
    "    print(f\"\\n💾 Results saved to {filename}\")"
   ]
  },
  {
   "cell_type": "code",
   "execution_count": 82,
   "id": "5075154e",
   "metadata": {},
   "outputs": [
    {
     "name": "stdout",
     "output_type": "stream",
     "text": [
      "Defaulting to user installation because normal site-packages is not writeableNote: you may need to restart the kernel to use updated packages.\n"
     ]
    },
    {
     "name": "stderr",
     "output_type": "stream",
     "text": [
      "\n",
      "[notice] A new release of pip is available: 24.2 -> 24.3.1\n",
      "[notice] To update, run: python.exe -m pip install --upgrade pip\n"
     ]
    },
    {
     "name": "stdout",
     "output_type": "stream",
     "text": [
      "\n",
      "Requirement already satisfied: matplotlib in c:\\users\\haris\\appdata\\roaming\\python\\python312\\site-packages (3.9.2)\n",
      "Requirement already satisfied: contourpy>=1.0.1 in c:\\users\\haris\\appdata\\roaming\\python\\python312\\site-packages (from matplotlib) (1.3.0)\n",
      "Requirement already satisfied: cycler>=0.10 in c:\\users\\haris\\appdata\\roaming\\python\\python312\\site-packages (from matplotlib) (0.12.1)\n",
      "Requirement already satisfied: fonttools>=4.22.0 in c:\\users\\haris\\appdata\\roaming\\python\\python312\\site-packages (from matplotlib) (4.54.1)\n",
      "Requirement already satisfied: kiwisolver>=1.3.1 in c:\\users\\haris\\appdata\\roaming\\python\\python312\\site-packages (from matplotlib) (1.4.7)\n",
      "Requirement already satisfied: numpy>=1.23 in c:\\users\\haris\\appdata\\roaming\\python\\python312\\site-packages (from matplotlib) (1.26.3)\n",
      "Requirement already satisfied: packaging>=20.0 in c:\\users\\haris\\appdata\\roaming\\python\\python312\\site-packages (from matplotlib) (24.1)\n",
      "Requirement already satisfied: pillow>=8 in c:\\users\\haris\\appdata\\roaming\\python\\python312\\site-packages (from matplotlib) (10.4.0)\n",
      "Requirement already satisfied: pyparsing>=2.3.1 in c:\\users\\haris\\appdata\\roaming\\python\\python312\\site-packages (from matplotlib) (3.1.4)\n",
      "Requirement already satisfied: python-dateutil>=2.7 in c:\\users\\haris\\appdata\\roaming\\python\\python312\\site-packages (from matplotlib) (2.9.0.post0)\n",
      "Requirement already satisfied: six>=1.5 in c:\\users\\haris\\appdata\\roaming\\python\\python312\\site-packages (from python-dateutil>=2.7->matplotlib) (1.16.0)\n"
     ]
    }
   ],
   "source": [
    "pip install matplotlib"
   ]
  },
  {
   "cell_type": "code",
   "execution_count": 83,
   "id": "e32916a8",
   "metadata": {},
   "outputs": [],
   "source": [
    "def interactive_search(search_term, recipient_email):\n",
    "    if search_term.strip() and recipient_email.strip():\n",
    "        search_and_visualize(search_term, recipient_email)\n",
    "    else:\n",
    "        print(\"Please enter a search term and email address.\")"
   ]
  },
  {
   "cell_type": "code",
   "execution_count": 14,
   "id": "e097c1de",
   "metadata": {},
   "outputs": [
    {
     "name": "stdout",
     "output_type": "stream",
     "text": [
      "Email sent successfully to harishmagvgireesh@gmail.com!\n"
     ]
    },
    {
     "data": {
      "application/vnd.jupyter.widget-view+json": {
       "model_id": "7bf1b09de29e452ca982447b74b14076",
       "version_major": 2,
       "version_minor": 0
      },
      "text/plain": [
       "interactive(children=(Text(value='airpods pro', description='🔍 Search:', placeholder='Type product name...', s…"
      ]
     },
     "metadata": {},
     "output_type": "display_data"
    }
   ],
   "source": [
    "def search_and_visualize(search_term, recipient_email):\n",
    "    # Placeholder for your search functionality\n",
    "    print(f\"Searching for: {search_term}\")\n",
    "\n",
    "    # Placeholder content for email\n",
    "    email_content = f\"Results for your search '{search_term}' go here.\"\n",
    "\n",
    "    # Send email\n",
    "    send_email(recipient_email, f\"Search Results for {search_term}\", email_content)\n",
    "    print(f\"Email sent to {recipient_email}\")\n",
    "\n",
    "# Define the email sending function\n",
    "import smtplib\n",
    "from email.message import EmailMessage\n",
    "\n",
    "def send_email(recipient, subject, content):\n",
    "    try:\n",
    "        msg = EmailMessage()\n",
    "        msg.set_content(content)\n",
    "        msg['Subject'] = subject\n",
    "        msg['From'] = 'adirm2603@gmail.com'\n",
    "        msg['To'] = recipient\n",
    "\n",
    "        smtp_server = 'smtp.gmail.com'\n",
    "        smtp_port = 587\n",
    "\n",
    "        # Connect to the SMTP server\n",
    "        with smtplib.SMTP(smtp_server, smtp_port) as server:\n",
    "            server.starttls()  # Start TLS for security\n",
    "            # Use your Gmail and generated App Password here\n",
    "            server.login('harishmagvgireesh@gmail.com', 'cose dtlj ylew odea')\n",
    "            server.send_message(msg)\n",
    "        \n",
    "        print(f\"Email sent successfully to {recipient}!\")\n",
    "    except smtplib.SMTPAuthenticationError:\n",
    "        print(\"Authentication failed. Please check your email and app password.\")\n",
    "    except Exception as e:\n",
    "        print(f\"Failed to send email: {e}\")\n",
    "\n",
    "# Example usage\n",
    "send_email(\"harishmagvgireesh@gmail.com\", \"eBay\", \"eBay has lowest price. link for eBay:https://www.walmart.com/search?q=\")\n",
    "\n",
    "\n",
    "from ipywidgets import interact, widgets\n",
    "\n",
    "search_term = widgets.Text(\n",
    "    value='airpods pro',\n",
    "    placeholder='Type product name...',\n",
    "    description='🔍 Search:',\n",
    "    style={'description_width': 'initial'}\n",
    ")\n",
    "\n",
    "recipient_email = widgets.Text(\n",
    "    value='',\n",
    "    placeholder='Enter email address...',\n",
    "    description='📧 Email:',\n",
    "    style={'description_width': 'initial'}\n",
    ")\n",
    "\n",
    "@interact(search_term=search_term, recipient_email=recipient_email)\n",
    "def interactive_search(search_term, recipient_email):\n",
    "    if search_term.strip() and recipient_email.strip():\n",
    "        search_and_visualize(search_term, recipient_email)\n",
    "    else:\n",
    "        print(\"Please enter a search term and email address.\")"
   ]
  }
 ],
 "metadata": {
  "kernelspec": {
   "display_name": "Python 3",
   "language": "python",
   "name": "python3"
  },
  "language_info": {
   "codemirror_mode": {
    "name": "ipython",
    "version": 3
   },
   "file_extension": ".py",
   "mimetype": "text/x-python",
   "name": "python",
   "nbconvert_exporter": "python",
   "pygments_lexer": "ipython3",
   "version": "3.12.3"
  }
 },
 "nbformat": 4,
 "nbformat_minor": 5
}
